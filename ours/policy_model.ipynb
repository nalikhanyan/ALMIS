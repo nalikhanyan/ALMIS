{
 "metadata": {
  "language_info": {
   "codemirror_mode": {
    "name": "ipython",
    "version": 3
   },
   "file_extension": ".py",
   "mimetype": "text/x-python",
   "name": "python",
   "nbconvert_exporter": "python",
   "pygments_lexer": "ipython3",
   "version": "3.7.10"
  },
  "orig_nbformat": 2,
  "kernelspec": {
   "name": "python3",
   "display_name": "Python 3.7.10 64-bit",
   "metadata": {
    "interpreter": {
     "hash": "949babd06a2b435480d39758a121c8990d4040c0c8bf958c50c2ad9889b9c60b"
    }
   }
  }
 },
 "nbformat": 4,
 "nbformat_minor": 2,
 "cells": [
  {
   "cell_type": "code",
   "execution_count": 5,
   "metadata": {},
   "outputs": [],
   "source": [
    "import torch\n",
    "import os\n",
    "import pandas as pd\n",
    "from ntpath import basename\n"
   ]
  },
  {
   "cell_type": "code",
   "execution_count": 9,
   "metadata": {},
   "outputs": [
    {
     "output_type": "stream",
     "name": "stdout",
     "text": [
      "/home/ubuntu/thesis/covid_lungs\n"
     ]
    }
   ],
   "source": [
    "cd covid_lungs/"
   ]
  },
  {
   "cell_type": "code",
   "execution_count": 7,
   "metadata": {},
   "outputs": [],
   "source": [
    "# df['feature_path'] = df['feature_path'].apply(lambda x: os.path.join(input_dir, basename(x)))"
   ]
  },
  {
   "cell_type": "code",
   "execution_count": 10,
   "metadata": {},
   "outputs": [],
   "source": [
    "input_dir = 'tmp/gen_features/hist_log'\n",
    "df_path = os.path.join(input_dir, 'gt.csv')\n",
    "df = pd.read_csv(df_path)\n",
    "\n",
    "def read_point(x_path):\n",
    "    return torch.load(x_path).detach().cpu().numpy()\n",
    "\n",
    "df_feat = pd.DataFrame(df['feature_path'].apply(read_point).tolist())\n"
   ]
  },
  {
   "cell_type": "code",
   "execution_count": 11,
   "metadata": {},
   "outputs": [],
   "source": [
    "df_feat['score'] = df['diff_f1']"
   ]
  },
  {
   "cell_type": "code",
   "execution_count": 15,
   "metadata": {},
   "outputs": [],
   "source": [
    "df_t = df_feat.copy()"
   ]
  },
  {
   "cell_type": "code",
   "execution_count": 13,
   "metadata": {},
   "outputs": [],
   "source": [
    "import numpy as np"
   ]
  },
  {
   "cell_type": "code",
   "execution_count": 18,
   "metadata": {},
   "outputs": [
    {
     "output_type": "stream",
     "name": "stdout",
     "text": [
      "[0.04886172 0.05497121 0.04470052 0.04951067 0.05107539]\n[-1.22897002 -1.85860301 -1.88270999 -2.41101849 -1.6684743 ]\n"
     ]
    },
    {
     "output_type": "execute_result",
     "data": {
      "text/plain": [
       "0.04031653819243253"
      ]
     },
     "metadata": {},
     "execution_count": 18
    }
   ],
   "source": [
    "from sklearn.linear_model import LinearRegression\n",
    "from sklearn.svm import SVR\n",
    "from sklearn.model_selection import cross_validate\n",
    "from sklearn.preprocessing import StandardScaler\n",
    "\n",
    "X = df_t.drop(columns='score')\n",
    "y = df_t['score']\n",
    "ss = StandardScaler()\n",
    "X = ss.fit_transform(X)\n",
    "\n",
    "# lin_mod = SVR(kernel='rbf', C=100, epsilon=0.1)\n",
    "lin_mod =LinearRegression()\n",
    "scores = cross_validate(lin_mod, X, y, cv=5,\n",
    "                        scoring=('r2', 'neg_mean_absolute_percentage_error'),\n",
    "                        return_train_score=True\n",
    "                        )\n",
    "\n",
    "# print(scores['test_neg_mean_squared_error'])\n",
    "print(scores['train_r2'])\n",
    "print(scores['test_neg_mean_absolute_percentage_error'])\n",
    "\n",
    "# clf = SVR(kernel='rbf', C=30, epsilon=0.1).fit(X, y)\n",
    "clf = LinearRegression().fit(X, y)\n",
    "clf.score(X, y)"
   ]
  },
  {
   "cell_type": "code",
   "execution_count": 19,
   "metadata": {},
   "outputs": [
    {
     "output_type": "execute_result",
     "data": {
      "text/plain": [
       "array([-2.98205233e-14,  3.15296834e-14, -9.99534402e-04,  1.63853096e-03,\n",
       "        2.59816811e-03,  7.27426205e-03, -8.06003197e-03, -1.89997882e-02,\n",
       "       -4.09032314e-02, -2.78224472e-02, -2.93324555e-02, -3.15053036e-02,\n",
       "       -2.11868274e-02, -2.16626688e-02,  6.22804783e-03,  4.76384935e-02,\n",
       "        1.64648371e-02, -7.55957852e-03, -1.24898680e-02, -1.92451391e-02,\n",
       "        3.27814801e-02,  1.92216767e-02,  5.85838700e-03,  1.84015153e-02,\n",
       "        5.67705840e-03,  6.98142079e-03,  5.00279159e-02,  3.29529642e-02,\n",
       "        6.55269550e-03,  3.88267477e-01, -2.09940656e-02, -1.08831326e-02,\n",
       "       -3.49503679e-03,  2.06201612e-02,  7.81259330e-03,  1.21620863e-02,\n",
       "       -1.53273456e-02,  5.95620852e-03, -2.13814683e-02, -4.34380680e-03,\n",
       "        5.41953143e-03,  3.08593832e-02,  4.25677794e-01,  1.15667131e+00,\n",
       "        8.81596732e-01,  1.36139630e+00,  9.57919426e-01,  2.50045983e-01,\n",
       "        4.83072936e-02, -5.05792896e-02,  2.45094878e-02,  2.79848345e-02,\n",
       "        6.67208732e-02, -3.97701773e-02, -2.24941398e-02, -4.20737132e-02,\n",
       "       -4.65948852e-02, -4.67084853e-04, -2.26485461e-03,  0.00000000e+00])"
      ]
     },
     "metadata": {},
     "execution_count": 19
    }
   ],
   "source": [
    "clf.coef_"
   ]
  },
  {
   "cell_type": "code",
   "execution_count": null,
   "metadata": {},
   "outputs": [],
   "source": []
  }
 ]
}